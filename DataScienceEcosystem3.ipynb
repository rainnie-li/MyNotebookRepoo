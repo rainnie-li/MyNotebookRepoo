{
  "metadata": {
    "kernelspec": {
      "name": "python",
      "display_name": "Python (Pyodide)",
      "language": "python"
    },
    "language_info": {
      "codemirror_mode": {
        "name": "python",
        "version": 3
      },
      "file_extension": ".py",
      "mimetype": "text/x-python",
      "name": "python",
      "nbconvert_exporter": "python",
      "pygments_lexer": "ipython3",
      "version": "3.8"
    }
  },
  "nbformat_minor": 5,
  "nbformat": 4,
  "cells": [
    {
      "id": "3cccaeae-01c7-419e-a994-b0b1ca146b78",
      "cell_type": "markdown",
      "source": "# Data Science Tools and Ecosystem\n\n\n",
      "metadata": {}
    },
    {
      "id": "05d9ac32-9beb-4d01-84c0-cb4beb6bfaec",
      "cell_type": "code",
      "source": "Some of the popular languages that Data Scientists use are:\n1. Python\n2. R\n3. SQL",
      "metadata": {
        "trusted": true
      },
      "outputs": [],
      "execution_count": null
    },
    {
      "id": "0e34dfbe-c1c2-4e6c-9dd3-c94a30b7cb5b",
      "cell_type": "code",
      "source": "Some of the popular languages that Data Scientists use are:\n1. Python\n2. R\n3. SQL",
      "metadata": {
        "trusted": true
      },
      "outputs": [],
      "execution_count": null
    },
    {
      "id": "4b7a4bb1-5025-45f4-8142-ab59dfb6e708",
      "cell_type": "code",
      "source": "Some of the popular languages that Data Scientists use are:\n1. Python\n2. R\n3. SQL",
      "metadata": {
        "trusted": true
      },
      "outputs": [],
      "execution_count": null
    },
    {
      "id": "9eb78cfc-7797-45df-a2b0-113da76565d9",
      "cell_type": "markdown",
      "source": "## Author\nRainnie\n",
      "metadata": {}
    },
    {
      "id": "c76ee0c4-7fee-4190-9c8f-58396a33db3d",
      "cell_type": "code",
      "source": "**Objectives:**\n\n- List popular programming languages used in Data Science.\n- Identify commonly used libraries and tools for data analysis.\n- Demonstrate how to use Markdown for documentation in Jupyter Notebooks.\n- Create and execute code cells within a notebook environment.",
      "metadata": {
        "trusted": true
      },
      "outputs": [],
      "execution_count": null
    },
    {
      "id": "9367f4ac-bf60-4822-b2fd-ba192290e109",
      "cell_type": "code",
      "source": "evaluate the expression \n(3*4)+5\n[This a simple arithmetic expression to mutiply then add integers]: #\n17",
      "metadata": {
        "trusted": true
      },
      "outputs": [],
      "execution_count": null
    },
    {
      "id": "39b84b28-7a07-4c61-a314-3614ff51ddd3",
      "cell_type": "code",
      "source": "",
      "metadata": {
        "trusted": true
      },
      "outputs": [],
      "execution_count": null
    }
  ]
}